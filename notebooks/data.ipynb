{
 "cells": [
  {
   "cell_type": "code",
   "execution_count": 1,
   "id": "1af6ed85-4b68-4b03-acf2-dc4d02a1f43e",
   "metadata": {},
   "outputs": [
    {
     "name": "stderr",
     "output_type": "stream",
     "text": [
      "WARNING:absl:Type handler registry overriding type \"<class 'float'>\" collision on scalar\n",
      "WARNING:absl:Type handler registry overriding type \"<class 'bytes'>\" collision on scalar\n",
      "WARNING:absl:Type handler registry overriding type \"<class 'numpy.number'>\" collision on scalar\n"
     ]
    }
   ],
   "source": [
    "import numpy as np\n",
    "import pandas as pd\n",
    "import os, sys\n",
    "sys.path.insert(0, \"../../../Github/DeepRFM/modules\")\n",
    "sys.path.insert(0, \"../modules\")\n",
    "import l96\n",
    "import convert as cv\n",
    "import experiment as ex\n",
    "\n",
    "ds = \"L96\"\n",
    "root = f\"../data/{ds}\"\n",
    "# l96.gen_data(train_size=int(2e5), test_num=1)\n",
    "\n",
    "# cv.npy2csv(f\"{root}/train.npy\", I=4, dt=0.01)"
   ]
  },
  {
   "cell_type": "code",
   "execution_count": null,
   "id": "ce786a93-cff4-479c-97fd-10baad6fbb6a",
   "metadata": {},
   "outputs": [
    {
     "name": "stdout",
     "output_type": "stream",
     "text": [
      "36\n"
     ]
    },
    {
     "name": "stderr",
     "output_type": "stream",
     "text": [
      "/Users/pman0581/miniconda3/envs/bnf/lib/python3.10/site-packages/joblib/externals/loky/backend/fork_exec.py:38: RuntimeWarning: os.fork() was called. os.fork() is incompatible with multithreaded code, and JAX is multithreaded, so this will likely lead to a deadlock.\n",
      "  pid = os.fork()\n",
      "WARNING:absl:Type handler registry overriding type \"<class 'float'>\" collision on scalar\n",
      "WARNING:absl:Type handler registry overriding type \"<class 'bytes'>\" collision on scalar\n",
      "WARNING:absl:Type handler registry overriding type \"<class 'numpy.number'>\" collision on scalar\n",
      "WARNING:absl:Type handler registry overriding type \"<class 'float'>\" collision on scalar\n",
      "WARNING:absl:Type handler registry overriding type \"<class 'bytes'>\" collision on scalar\n",
      "WARNING:absl:Type handler registry overriding type \"<class 'numpy.number'>\" collision on scalar\n",
      "WARNING:absl:Type handler registry overriding type \"<class 'float'>\" collision on scalar\n",
      "WARNING:absl:Type handler registry overriding type \"<class 'bytes'>\" collision on scalar\n",
      "WARNING:absl:Type handler registry overriding type \"<class 'numpy.number'>\" collision on scalar\n",
      "WARNING:absl:Type handler registry overriding type \"<class 'float'>\" collision on scalar\n",
      "WARNING:absl:Type handler registry overriding type \"<class 'bytes'>\" collision on scalar\n",
      "WARNING:absl:Type handler registry overriding type \"<class 'numpy.number'>\" collision on scalar\n"
     ]
    },
    {
     "name": "stdout",
     "output_type": "stream",
     "text": [
      "Time taken by gen_data is 23.9765 seconds\n",
      "Time taken to produce csv file: 0.00 seconds\n",
      "Time taken by parallel_forecast is 13.5584 seconds\n",
      "Time taken by parallel_forecast is 14.3547 seconds\n"
     ]
    }
   ],
   "source": [
    "data_gen_kwargs = {\"dt\": 1e-2, \"train_size\": int(1e1), \"test_num\": 1}\n",
    "train_kwargs = {'save_folder': f\"{root}/test\", \"epochs\": 1, \"I\": 4}\n",
    "feature_cols = [f\"Space_{i}\" for i in range(9)]\n",
    "target_col = \"Output\"\n",
    "n = len(feature_cols)\n",
    "interactions = [(i, j) for i in range(n) for j in range(n) if i < j]\n",
    "print(len(interactions))\n",
    "\n",
    "bnf_kwargs = {\"width\": 2,\n",
    "  \"depth\": 2,\n",
    "  \"freq\": None,\n",
    "  \"seasonality_periods\": None,\n",
    "  \"num_seasonal_harmonics\": None,\n",
    "  \"feature_cols\": feature_cols,\n",
    "  \"target_col\": target_col,\n",
    "  \"observation_model\": 'NORMAL',\n",
    "  \"timetype\": 'float',\n",
    "  \"standardize\":  None,\n",
    "  \"interactions\": interactions}\n",
    "\n",
    "eval_kwargs = {\"vpt_steps\": 3, \"n_RMSE\": 10, \"w2_steps\": 10, \"vpt_epsilon\": 0.5, \"Lyapunov_time\": 1/2.27,\\\n",
    "              \"n_sample_w2\": 10}\n",
    "\n",
    "ex.run_single(bnf_kwargs, data_gen_kwargs, train_kwargs, eval_kwargs)"
   ]
  }
 ],
 "metadata": {
  "kernelspec": {
   "display_name": "Python 3 (ipykernel)",
   "language": "python",
   "name": "python3"
  },
  "language_info": {
   "codemirror_mode": {
    "name": "ipython",
    "version": 3
   },
   "file_extension": ".py",
   "mimetype": "text/x-python",
   "name": "python",
   "nbconvert_exporter": "python",
   "pygments_lexer": "ipython3",
   "version": "3.10.14"
  }
 },
 "nbformat": 4,
 "nbformat_minor": 5
}
