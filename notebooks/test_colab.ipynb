{
 "cells": [
  {
   "cell_type": "code",
   "execution_count": 30,
   "id": "fd9b4690-091f-45dd-9c7e-a6e61c38074c",
   "metadata": {},
   "outputs": [
    {
     "name": "stdout",
     "output_type": "stream",
     "text": [
      "Time taken by load is 2.3211 seconds\n"
     ]
    }
   ],
   "source": [
    "import numpy as np\n",
    "import pandas as pd\n",
    "import os, sys\n",
    "sys.path.insert(0, \"../modules\")\n",
    "import l96\n",
    "import convert as cv\n",
    "import experiment as ex\n",
    "import utility as ut\n",
    "import evaluate as ev\n",
    "\n",
    "ds = \"L96\"\n",
    "root = f\"../data/{ds}/autonomous-all-in\"\n",
    "df_train = pd.read_csv(f\"{root}/train.csv\")\n",
    "train = np.load(f\"{root}/train.npy\")\n",
    "D_r = 256\n",
    "\n",
    "train_kwargs = {'save_folder': f\"{root}/autonomous-all-in\", \"epochs\": 50000, \"I\": 4}\n",
    "data_gen_kwargs = {\"dt\": 1e-2, \"train_size\": int(2e5), \"train_seed\": np.random.randint(1e6), \"test_num\": 1}\n",
    "feature_cols = [f\"Space_{i}\" for i in range(2*train_kwargs[\"I\"]+1)]\n",
    "bnf_kwargs   = {\"width\": D_r,\n",
    "                \"depth\": 2,\n",
    "                \"freq\": None,\n",
    "                \"seasonality_periods\": None,\n",
    "                \"num_seasonal_harmonics\": None,\n",
    "                \"feature_cols\": [f\"Space_{i}\" for i in range(9)],\n",
    "                \"target_col\": \"Output\",\n",
    "                \"observation_model\": 'NORMAL',\n",
    "                \"timetype\": 'float',\n",
    "                \"standardize\":  None,\n",
    "                \"interactions\": [(i, j) for i in range(len(feature_cols)) for j in range(len(feature_cols)) if i < j]}\n",
    "model = ut.load(os.path.abspath(f\"{root}/bnf_model\"), df_train, **bnf_kwargs)\n"
   ]
  },
  {
   "cell_type": "code",
   "execution_count": 39,
   "id": "183dabb9-15b6-4823-aa88-f628f8044275",
   "metadata": {},
   "outputs": [
    {
     "name": "stdout",
     "output_type": "stream",
     "text": [
      "Time taken by multistep_forecast is 37.4621 seconds\n"
     ]
    }
   ],
   "source": [
    "data = np.load(f\"{root}/data.npy\")\n",
    "n_steps = 100\n",
    "N = int(data.shape[1]/2)\n",
    "x = data[:, N]\n",
    "y = data[:, N:N+n_steps]\n",
    "std = train.std(axis=1)\n",
    "y_ = ev.multistep_forecast(model, 0, x, 4, n_steps, 0.01)\n",
    "# print(np.sqrt((((y-y_)/std)**2).sum()))\n"
   ]
  },
  {
   "cell_type": "code",
   "execution_count": 40,
   "id": "80628609-a58f-43a0-86fc-c6167d110c8f",
   "metadata": {},
   "outputs": [
    {
     "data": {
      "text/plain": [
       "array([0., 0., 0., 0., 0., 0., 0., 0., 0., 0., 0., 0., 0., 0., 0., 0., 0.,\n",
       "       0., 0., 0., 0., 0., 0., 0., 0., 0., 0., 0., 0., 0., 0., 0., 0., 0.,\n",
       "       0., 0., 0., 0., 0., 0.])"
      ]
     },
     "execution_count": 40,
     "metadata": {},
     "output_type": "execute_result"
    }
   ],
   "source": [
    "x - y_[:, 0]"
   ]
  },
  {
   "cell_type": "code",
   "execution_count": 53,
   "id": "c92c09d8-8032-4efb-9fa9-440943924a54",
   "metadata": {},
   "outputs": [
    {
     "data": {
      "text/plain": [
       "0.1135"
      ]
     },
     "execution_count": 53,
     "metadata": {},
     "output_type": "execute_result"
    }
   ],
   "source": [
    "np.argmax((((y-y_) / std[:, None])**2).sum(axis=0) > 0.5**2) * 2.27 * 0.01"
   ]
  },
  {
   "cell_type": "code",
   "execution_count": 63,
   "id": "663da460-b31c-4ea4-8e2a-245e769eefa6",
   "metadata": {},
   "outputs": [
    {
     "data": {
      "text/plain": [
       "1.7933000000000001"
      ]
     },
     "execution_count": 63,
     "metadata": {},
     "output_type": "execute_result"
    }
   ],
   "source": [
    "np.argmax((((y-y_) / std[:, None])**2).mean(axis=0) > 0.25) * 0.0227\n"
   ]
  },
  {
   "cell_type": "code",
   "execution_count": 64,
   "id": "c1696028-b724-403a-9173-7c09e554b5f9",
   "metadata": {},
   "outputs": [],
   "source": [
    "y__ = np.load(f\"{root}/rmse_trajectory.npy\")"
   ]
  },
  {
   "cell_type": "code",
   "execution_count": 65,
   "id": "b601e4ec-e7ee-4a1f-bbca-c50bd6418e5e",
   "metadata": {},
   "outputs": [
    {
     "data": {
      "text/plain": [
       "(40, 100)"
      ]
     },
     "execution_count": 65,
     "metadata": {},
     "output_type": "execute_result"
    }
   ],
   "source": [
    "y_.shape"
   ]
  },
  {
   "cell_type": "code",
   "execution_count": 74,
   "id": "5211065d-a849-4435-a5e1-db8a96801e80",
   "metadata": {},
   "outputs": [
    {
     "data": {
      "text/plain": [
       "0.2668793577483595"
      ]
     },
     "execution_count": 74,
     "metadata": {},
     "output_type": "execute_result"
    }
   ],
   "source": [
    "np.sqrt(((y - y__)**2).mean(axis=0).mean())"
   ]
  },
  {
   "cell_type": "code",
   "execution_count": 76,
   "id": "7a2caeab-570e-43cb-93ec-fc4190ee12bf",
   "metadata": {},
   "outputs": [
    {
     "data": {
      "text/plain": [
       "7.91278591412433"
      ]
     },
     "execution_count": 76,
     "metadata": {},
     "output_type": "execute_result"
    }
   ],
   "source": [
    "np.abs(y- y__).sum(axis=0).mean()"
   ]
  },
  {
   "cell_type": "code",
   "execution_count": null,
   "id": "77b21c69-ff0a-450b-a9a5-5d296e0a3e06",
   "metadata": {},
   "outputs": [],
   "source": []
  }
 ],
 "metadata": {
  "kernelspec": {
   "display_name": "Python 3 (ipykernel)",
   "language": "python",
   "name": "python3"
  },
  "language_info": {
   "codemirror_mode": {
    "name": "ipython",
    "version": 3
   },
   "file_extension": ".py",
   "mimetype": "text/x-python",
   "name": "python",
   "nbconvert_exporter": "python",
   "pygments_lexer": "ipython3",
   "version": "3.10.14"
  }
 },
 "nbformat": 4,
 "nbformat_minor": 5
}
