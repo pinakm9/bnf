{
 "cells": [
  {
   "cell_type": "code",
   "execution_count": 9,
   "id": "fd9b4690-091f-45dd-9c7e-a6e61c38074c",
   "metadata": {},
   "outputs": [
    {
     "name": "stdout",
     "output_type": "stream",
     "text": [
      "Time taken by load is 1.7916 seconds\n"
     ]
    }
   ],
   "source": [
    "import numpy as np\n",
    "import pandas as pd\n",
    "import os, sys\n",
    "sys.path.insert(0, \"../modules\")\n",
    "import l96\n",
    "import convert as cv\n",
    "import experiment as ex\n",
    "import utility as ut\n",
    "import evaluate as ev\n",
    "\n",
    "ds = \"L96\"\n",
    "root = f\"../data/{ds}/autonomous-all-in\"\n",
    "df_train = pd.read_csv(f\"{root}/train.csv\")\n",
    "train = np.load(f\"{root}/train.npy\")\n",
    "D_r = 256\n",
    "\n",
    "train_kwargs = {'save_folder': f\"{root}/autonomous-all-in\", \"epochs\": 50000, \"I\": 4}\n",
    "data_gen_kwargs = {\"dt\": 1e-2, \"train_size\": int(2e5), \"train_seed\": np.random.randint(1e6), \"test_num\": 1}\n",
    "feature_cols = [f\"Space_{i}\" for i in range(2*train_kwargs[\"I\"]+1)]\n",
    "bnf_kwargs   = {\"width\": D_r,\n",
    "                \"depth\": 2,\n",
    "                \"freq\": None,\n",
    "                \"seasonality_periods\": None,\n",
    "                \"num_seasonal_harmonics\": None,\n",
    "                \"feature_cols\": [f\"Space_{i}\" for i in range(9)],\n",
    "                \"target_col\": \"Output\",\n",
    "                \"observation_model\": 'NORMAL',\n",
    "                \"timetype\": 'float',\n",
    "                \"standardize\":  None,\n",
    "                \"interactions\": [(i, j) for i in range(len(feature_cols)) for j in range(len(feature_cols)) if i < j]}\n",
    "model = ut.load(os.path.abspath(f\"{root}/bnf_model\"), df_train, **bnf_kwargs)\n"
   ]
  },
  {
   "cell_type": "code",
   "execution_count": 20,
   "id": "183dabb9-15b6-4823-aa88-f628f8044275",
   "metadata": {},
   "outputs": [
    {
     "name": "stdout",
     "output_type": "stream",
     "text": [
      "0.009140236\n"
     ]
    }
   ],
   "source": [
    "x = train[:, 0]\n",
    "y = train[:, 1]\n",
    "std = train.std(axis=1)\n",
    "y_hat = ev.forecast(model, 0, x, 4)\n",
    "print(np.sqrt((((y-y_hat)/std)**2).sum()))\n"
   ]
  },
  {
   "cell_type": "code",
   "execution_count": 16,
   "id": "80628609-a58f-43a0-86fc-c6167d110c8f",
   "metadata": {},
   "outputs": [
    {
     "name": "stdout",
     "output_type": "stream",
     "text": [
      "[4.41310541 4.41705339 4.39215531 4.33127585 4.35490566 4.44423441\n",
      " 4.40470971 4.33172205 4.3403499  4.31664517 4.2368089  4.35610947\n",
      " 4.39594911 4.35255774 4.44815159 4.39309972 4.33503573 4.38471576\n",
      " 4.41669872 4.38063822 4.43691512 4.36687575 4.4273334  4.44727504\n",
      " 4.33147819 4.26574941 4.37135955 4.4417037  4.273711   4.39287797\n",
      " 4.45273471 4.39462583 4.31931573 4.37152329 4.37576693 4.37077337\n",
      " 4.4334247  4.39180298 4.45302428 4.40440764]\n"
     ]
    }
   ],
   "source": [
    "\n",
    "print(std)"
   ]
  },
  {
   "cell_type": "code",
   "execution_count": null,
   "id": "c92c09d8-8032-4efb-9fa9-440943924a54",
   "metadata": {},
   "outputs": [],
   "source": []
  }
 ],
 "metadata": {
  "kernelspec": {
   "display_name": "Python 3 (ipykernel)",
   "language": "python",
   "name": "python3"
  },
  "language_info": {
   "codemirror_mode": {
    "name": "ipython",
    "version": 3
   },
   "file_extension": ".py",
   "mimetype": "text/x-python",
   "name": "python",
   "nbconvert_exporter": "python",
   "pygments_lexer": "ipython3",
   "version": "3.10.14"
  }
 },
 "nbformat": 4,
 "nbformat_minor": 5
}
