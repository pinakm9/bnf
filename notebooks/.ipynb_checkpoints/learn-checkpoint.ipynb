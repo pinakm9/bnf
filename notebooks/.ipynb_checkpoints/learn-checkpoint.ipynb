{
 "cells": [
  {
   "cell_type": "code",
   "execution_count": 2,
   "id": "290c075f-caf8-4d30-ac9e-042c090e7013",
   "metadata": {},
   "outputs": [
    {
     "name": "stdout",
     "output_type": "stream",
     "text": [
      "45\n",
      "Time Taken = 4.331\n"
     ]
    },
    {
     "data": {
      "text/plain": [
       "nan"
      ]
     },
     "execution_count": 2,
     "metadata": {},
     "output_type": "execute_result"
    }
   ],
   "source": [
    "import bayesnf as bnf\n",
    "import pandas as pd\n",
    "import jax\n",
    "import time\n",
    "import os, sys\n",
    "sys.path.insert(0, \"../modules\")\n",
    "import evaluate as ev\n",
    "import numpy as np\n",
    "\n",
    "\n",
    "ds = \"L96\"\n",
    "root = f\"../data/{ds}\"\n",
    "df_train = pd.read_csv(f\"{root}/train.csv\")\n",
    "feature_cols = df_train.columns[:-1].to_list()\n",
    "target_col = df_train.columns[-1]\n",
    "n = len(feature_cols)\n",
    "interactions = [(i, j) for i in range(n) for j in range(n) if i < j]\n",
    "print(len(interactions))\n",
    "\n",
    "model = bnf.BayesianNeuralFieldMAP(\n",
    "  width=256,\n",
    "  depth=2,\n",
    "  freq=None,\n",
    "  seasonality_periods=None,\n",
    "  num_seasonal_harmonics=None,\n",
    "  feature_cols=feature_cols,\n",
    "  target_col=target_col,\n",
    "  observation_model='NORMAL',\n",
    "  timetype='float',\n",
    "  standardize= None,\n",
    "  interactions=interactions)\n",
    "\n",
    "start = time.time()\n",
    "model.fit(df_train.iloc[:1, :], seed=jax.random.PRNGKey(0), num_epochs=1,)\n",
    "print(f\"Time Taken = {time.time()-start:.3f}\")\n",
    "train, test = ev.get_data(f\"{root}/train.npy\", sep=int(1e5))\n",
    "prediction = ev.evaluate(model, root, 10)\n",
    "np.sqrt(((test[:, :10] - prediction)**2).sum(axis=0).mean())"
   ]
  },
  {
   "cell_type": "code",
   "execution_count": 6,
   "id": "3b466951-e9a0-49f9-803f-36ca0dad4c76",
   "metadata": {},
   "outputs": [
    {
     "name": "stderr",
     "output_type": "stream",
     "text": [
      "WARNING:absl:Type handler registry overriding type \"<class 'float'>\" collision on scalar\n",
      "WARNING:absl:Type handler registry overriding type \"<class 'bytes'>\" collision on scalar\n",
      "WARNING:absl:Type handler registry overriding type \"<class 'numpy.number'>\" collision on scalar\n",
      "WARNING:absl:Tensorflow library not found, tensorflow.io.gfile operations will use native shim calls. GCS paths (i.e. 'gs://...') cannot be accessed.\n",
      "WARNING:absl:SaveArgs.aggregate is deprecated, please use custom TypeHandler (https://orbax.readthedocs.io/en/latest/custom_handlers.html#typehandler) or contact Orbax team to migrate before May 1st, 2024. If your Pytree has empty ([], {}, None) values then use PyTreeCheckpointHandler(..., write_tree_metadata=True, ...) or use StandardCheckpointHandler to avoid TypeHandler Registry error. Please note that PyTreeCheckpointHandler.write_tree_metadata default value is already set to True.\n"
     ]
    },
    {
     "ename": "TypeError",
     "evalue": "'StructTuple' object does not support item assignment",
     "output_type": "error",
     "traceback": [
      "\u001b[0;31m---------------------------------------------------------------------------\u001b[0m",
      "\u001b[0;31mTypeError\u001b[0m                                 Traceback (most recent call last)",
      "Cell \u001b[0;32mIn[6], line 16\u001b[0m\n\u001b[1;32m      3\u001b[0m new_model \u001b[38;5;241m=\u001b[39m bnf\u001b[38;5;241m.\u001b[39mBayesianNeuralFieldMAP(\n\u001b[1;32m      4\u001b[0m   width\u001b[38;5;241m=\u001b[39m\u001b[38;5;241m256\u001b[39m,\n\u001b[1;32m      5\u001b[0m   depth\u001b[38;5;241m=\u001b[39m\u001b[38;5;241m2\u001b[39m,\n\u001b[0;32m   (...)\u001b[0m\n\u001b[1;32m     13\u001b[0m   standardize\u001b[38;5;241m=\u001b[39m \u001b[38;5;28;01mNone\u001b[39;00m,\n\u001b[1;32m     14\u001b[0m   interactions\u001b[38;5;241m=\u001b[39minteractions)\n\u001b[1;32m     15\u001b[0m new_model\u001b[38;5;241m.\u001b[39mfit(df_train\u001b[38;5;241m.\u001b[39miloc[:\u001b[38;5;241m10\u001b[39m, :], seed\u001b[38;5;241m=\u001b[39mjax\u001b[38;5;241m.\u001b[39mrandom\u001b[38;5;241m.\u001b[39mPRNGKey(\u001b[38;5;241m0\u001b[39m), num_epochs\u001b[38;5;241m=\u001b[39m\u001b[38;5;241m1\u001b[39m,)\n\u001b[0;32m---> 16\u001b[0m \u001b[43mut\u001b[49m\u001b[38;5;241;43m.\u001b[39;49m\u001b[43mload\u001b[49m\u001b[43m(\u001b[49m\u001b[43mnew_model\u001b[49m\u001b[43m,\u001b[49m\u001b[43m \u001b[49m\u001b[43mos\u001b[49m\u001b[38;5;241;43m.\u001b[39;49m\u001b[43mpath\u001b[49m\u001b[38;5;241;43m.\u001b[39;49m\u001b[43mabspath\u001b[49m\u001b[43m(\u001b[49m\u001b[38;5;124;43mf\u001b[39;49m\u001b[38;5;124;43m\"\u001b[39;49m\u001b[38;5;132;43;01m{\u001b[39;49;00m\u001b[43mroot\u001b[49m\u001b[38;5;132;43;01m}\u001b[39;49;00m\u001b[38;5;124;43m/model\u001b[39;49m\u001b[38;5;124;43m\"\u001b[39;49m\u001b[43m)\u001b[49m\u001b[43m)\u001b[49m\n\u001b[1;32m     18\u001b[0m prediction \u001b[38;5;241m=\u001b[39m ev\u001b[38;5;241m.\u001b[39mevaluate(new_model, root, \u001b[38;5;241m1000\u001b[39m)\n\u001b[1;32m     19\u001b[0m np\u001b[38;5;241m.\u001b[39msqrt(((test[:, :\u001b[38;5;241m1000\u001b[39m] \u001b[38;5;241m-\u001b[39m prediction)\u001b[38;5;241m*\u001b[39m\u001b[38;5;241m*\u001b[39m\u001b[38;5;241m2\u001b[39m)\u001b[38;5;241m.\u001b[39msum(axis\u001b[38;5;241m=\u001b[39m\u001b[38;5;241m0\u001b[39m)\u001b[38;5;241m.\u001b[39mmean())\n",
      "File \u001b[0;32m~/Documents/GitHub/bayesnf/notebooks/../modules/utility.py:62\u001b[0m, in \u001b[0;36mload\u001b[0;34m(model, file_path)\u001b[0m\n\u001b[1;32m     60\u001b[0m params_restored \u001b[38;5;241m=\u001b[39m ck\u001b[38;5;241m.\u001b[39mrestore_checkpoint(file_path, target\u001b[38;5;241m=\u001b[39m\u001b[38;5;28;01mNone\u001b[39;00m)\n\u001b[1;32m     61\u001b[0m \u001b[38;5;28;01mfor\u001b[39;00m i, (k, v) \u001b[38;5;129;01min\u001b[39;00m \u001b[38;5;28menumerate\u001b[39m(params_restored\u001b[38;5;241m.\u001b[39mitems()):\n\u001b[0;32m---> 62\u001b[0m     \u001b[43mmodel\u001b[49m\u001b[38;5;241;43m.\u001b[39;49m\u001b[43mparams_\u001b[49m\u001b[43m[\u001b[49m\u001b[43mi\u001b[49m\u001b[43m]\u001b[49m \u001b[38;5;241m=\u001b[39m v\n\u001b[1;32m     64\u001b[0m \u001b[38;5;28;01mwith\u001b[39;00m \u001b[38;5;28mopen\u001b[39m(\u001b[38;5;124mf\u001b[39m\u001b[38;5;124m'\u001b[39m\u001b[38;5;132;01m{\u001b[39;00mfile_path\u001b[38;5;132;01m}\u001b[39;00m\u001b[38;5;124m/attrs.pkl\u001b[39m\u001b[38;5;124m'\u001b[39m, \u001b[38;5;124m\"\u001b[39m\u001b[38;5;124mrb\u001b[39m\u001b[38;5;124m\"\u001b[39m) \u001b[38;5;28;01mas\u001b[39;00m f:\n\u001b[1;32m     65\u001b[0m     rest \u001b[38;5;241m=\u001b[39m pickle\u001b[38;5;241m.\u001b[39mload(f)\n",
      "\u001b[0;31mTypeError\u001b[0m: 'StructTuple' object does not support item assignment"
     ]
    }
   ],
   "source": [
    "import utility as ut \n",
    "ut.save(model, os.path.abspath(f\"{root}/model\"), step=3)\n",
    "new_model = bnf.BayesianNeuralFieldMAP(\n",
    "  width=256,\n",
    "  depth=2,\n",
    "  freq=None,\n",
    "  seasonality_periods=None,\n",
    "  num_seasonal_harmonics=None,\n",
    "  feature_cols=feature_cols,\n",
    "  target_col=target_col,\n",
    "  observation_model='NORMAL',\n",
    "  timetype='float',\n",
    "  standardize= None,\n",
    "  interactions=interactions)\n",
    "new_model.fit(df_train.iloc[:10, :], seed=jax.random.PRNGKey(0), num_epochs=1,)\n",
    "ut.load(new_model, os.path.abspath(f\"{root}/model\"))\n",
    "\n",
    "prediction = ev.evaluate(new_model, root, 1000)\n",
    "np.sqrt(((test[:, :1000] - prediction)**2).sum(axis=0).mean())"
   ]
  },
  {
   "cell_type": "code",
   "execution_count": 36,
   "id": "abb4d41c-ce4a-4e71-8971-c2f2fcb61428",
   "metadata": {},
   "outputs": [
    {
     "data": {
      "image/png": "[encoded data removed]",
      "text/plain": [
       "<Figure size 150x300 with 1 Axes>"
      ]
     },
     "metadata": {},
     "output_type": "display_data"
    }
   ],
   "source": [
    "import matplotlib.pyplot as plt\n",
    "fig, ax = plt.subplots(1, 1, figsize=(1.5, 3))\n",
    "vp_left = ax.violinplot(df_test.loc[:, feature_cols[1:]].to_numpy().flatten(), showextrema=False, showmeans=True, side=\"low\")\n",
    "vp_right = ax.violinplot(df_train.loc[:50000, feature_cols[1:]].to_numpy().flatten(), showextrema=False, showmeans=True, side=\"high\")"
   ]
  },
  {
   "cell_type": "code",
   "execution_count": 5,
   "id": "3e9ba033-ebc3-415b-b110-fba8d029c931",
   "metadata": {},
   "outputs": [],
   "source": [
    "model.params_[0][0, 0]=1"
   ]
  }
 ],
 "metadata": {
  "kernelspec": {
   "display_name": "Python 3 (ipykernel)",
   "language": "python",
   "name": "python3"
  },
  "language_info": {
   "codemirror_mode": {
    "name": "ipython",
    "version": 3
   },
   "file_extension": ".py",
   "mimetype": "text/x-python",
   "name": "python",
   "nbconvert_exporter": "python",
   "pygments_lexer": "ipython3",
   "version": "3.10.14"
  }
 },
 "nbformat": 4,
 "nbformat_minor": 5
}
